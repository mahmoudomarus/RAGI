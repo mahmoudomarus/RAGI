{
 "cells": [
  {
   "cell_type": "markdown",
   "metadata": {},
   "source": [
    "# 🚀 BGBTC: Crypto Analysis with RAG on Kaggle\n",
    "\n",
    "This notebook demonstrates how to use the BGBTC project on Kaggle for cryptocurrency analysis."
   ]
  },
  {
   "cell_type": "code",
   "execution_count": null,
   "metadata": {},
   "source": [
    "# Clone the repository\n",
    "!git clone https://github.com/mahmoudomarus/BGBTC.git\n",
    "%cd BGBTC\n",
    "\n",
    "# Install requirements\n",
    "!pip install -r requirements.txt"
   ]
  },
  {
   "cell_type": "code",
   "execution_count": null,
   "metadata": {},
   "source": [
    "# Import necessary modules\n",
    "from src.data.collector import CryptoDataCollector\n",
    "from src.rag_agent import SimpleRAGAgent\n",
    "import plotly.graph_objects as go\n",
    "import pandas as pd"
   ]
  },
  {
   "cell_type": "code",
   "execution_count": null,
   "metadata": {},
   "source": [
    "# Initialize components\n",
    "collector = CryptoDataCollector()\n",
    "rag_agent = SimpleRAGAgent()"
   ]
  },
  {
   "cell_type": "code",
   "execution_count": null,
   "metadata": {},
   "source": [
    "# Fetch Bitcoin data\n",
    "btc_data = collector.fetch_crypto_data('BTC-USD', '1y')\n",
    "print(\"Data shape:\", btc_data.shape)\n",
    "btc_data.head()"
   ]
  },
  {
   "cell_type": "code",
   "execution_count": null,
   "metadata": {},
   "source": [
    "# Create price chart\n",
    "fig = go.Figure(data=[go.Candlestick(\n",
    "    x=btc_data.index,\n",
    "    open=btc_data['Open'],\n",
    "    high=btc_data['High'],\n",
    "    low=btc_data['Low'],\n",
    "    close=btc_data['Close']\n",
    ")])\n",
    "\n",
    "fig.update_layout(\n",
    "    title='Bitcoin Price Chart',\n",
    "    yaxis_title='Price (USD)',\n",
    "    template='plotly_dark'\n",
    ")\n",
    "\n",
    "fig.show()"
   ]
  },
  {
   "cell_type": "code",
   "execution_count": null,
   "metadata": {},
   "source": [
    "# Generate trading signals\n",
    "signals = rag_agent.generate_trading_signals(btc_data)\n",
    "print(\"Trading Signals:\")\n",
    "print(f\"Trend: {signals['trend']}\")\n",
    "print(f\"Position: {signals['position']}\")"
   ]
  },
  {
   "cell_type": "code",
   "execution_count": null,
   "metadata": {},
   "source": [
    "# Generate market insights\n",
    "insights = rag_agent.analyze_crypto_data(btc_data)\n",
    "print(\"\\nMarket Insights:\")\n",
    "for insight in insights:\n",
    "    print(f\"• {insight}\")"
   ]
  },
  {
   "cell_type": "code",
   "execution_count": null,
   "metadata": {},
   "source": [
    "# Add some knowledge to the RAG agent\n",
    "knowledge = [\n",
    "    \"Bitcoin is a decentralized cryptocurrency.\",\n",
    "    \"Technical analysis uses chart patterns to predict price movements.\",\n",
    "    \"Trading volume can indicate market strength or weakness.\",\n",
    "    f\"Bitcoin's current price is ${btc_data['Close'].iloc[-1]:,.2f}\",\n",
    "    f\"The current market trend is {signals['trend']}\"\n",
    "]\n",
    "\n",
    "rag_agent.add_knowledge(knowledge)\n",
    "\n",
    "# Test some queries\n",
    "questions = [\n",
    "    \"What is the current Bitcoin price?\",\n",
    "    \"What is the market trend?\",\n",
    "    \"How can I use volume in analysis?\"\n",
    "]\n",
    "\n",
    "for question in questions:\n",
    "    print(f\"\\nQ: {question}\")\n",
    "    results = rag_agent.query(question)\n",
    "    for result in results:\n",
    "        print(f\"A: {result['document']} (confidence: {result['similarity']:.2f})\")"
   ]
  }
 ],
 "metadata": {
  "kernelspec": {
   "display_name": "Python 3",
   "language": "python",
   "name": "python3"
  }
 }
}